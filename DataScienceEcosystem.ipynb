{
    "cells": [
        {
            "cell_type": "markdown",
            "id": "792c9f06",
            "metadata": {},
            "source": "# Data Science Tools and Ecosystem"
        },
        {
            "cell_type": "markdown",
            "id": "271de976",
            "metadata": {},
            "source": "In this notebook, Data Science Tools and Ecosystem are summarized."
        },
        {
            "cell_type": "markdown",
            "id": "1a61eb41",
            "metadata": {},
            "source": "**Objectives**\n*List popular languages that data scientists use\n*list commonly used libraries for Data science\n*List some Data Science tools"
        },
        {
            "cell_type": "markdown",
            "id": "dab46b47",
            "metadata": {},
            "source": "Some of the popular languages that Data Scientists use are:\n1. Python\n2. SQL\n3. R"
        },
        {
            "cell_type": "markdown",
            "id": "56e0cb4b",
            "metadata": {},
            "source": "Some of the commonly used libraries used by Data Scientists include:\n\n1. Matplotlib\n2. Numpy\n3. Pandas"
        },
        {
            "cell_type": "markdown",
            "id": "b2f3139a",
            "metadata": {},
            "source": ""
        },
        {
            "cell_type": "markdown",
            "id": "4c74d8e0",
            "metadata": {},
            "source": "|Data Science Tools|\n|------------------|\n|Jupyter Notebooks|\n|Google Cloud Platform|\n|Anaconda|"
        },
        {
            "cell_type": "markdown",
            "id": "747c1c72",
            "metadata": {},
            "source": "### Below are a few examples of evaluating arithmetic expressions in Python"
        },
        {
            "cell_type": "code",
            "execution_count": 3,
            "id": "670c1b54",
            "metadata": {},
            "outputs": [
                {
                    "data": {
                        "text/plain": "17"
                    },
                    "execution_count": 3,
                    "metadata": {},
                    "output_type": "execute_result"
                }
            ],
            "source": "\"This a simple arithmetic expression to mutiply then add integers\" \n(3*4)+5"
        },
        {
            "cell_type": "code",
            "execution_count": 4,
            "id": "97a8dff1",
            "metadata": {},
            "outputs": [
                {
                    "data": {
                        "text/plain": "3.3333333333333335"
                    },
                    "execution_count": 4,
                    "metadata": {},
                    "output_type": "execute_result"
                }
            ],
            "source": "\"This will convert 200 minutes to hours by dividing by 60\"\n200/60"
        },
        {
            "cell_type": "markdown",
            "id": "80d78644",
            "metadata": {},
            "source": "## Author:\nAreesha Daudpota"
        }
    ],
    "metadata": {
        "kernelspec": {
            "display_name": "Python 3 (ipykernel)",
            "language": "python",
            "name": "python3"
        },
        "language_info": {
            "codemirror_mode": {
                "name": "ipython",
                "version": 3
            },
            "file_extension": ".py",
            "mimetype": "text/x-python",
            "name": "python",
            "nbconvert_exporter": "python",
            "pygments_lexer": "ipython3",
            "version": "3.10.9"
        }
    },
    "nbformat": 4,
    "nbformat_minor": 5
}